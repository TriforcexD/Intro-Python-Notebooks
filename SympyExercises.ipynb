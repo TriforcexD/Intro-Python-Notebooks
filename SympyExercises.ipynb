{
  "nbformat": 4,
  "nbformat_minor": 0,
  "metadata": {
    "colab": {
      "provenance": [],
      "authorship_tag": "ABX9TyPXihxn4+D+gppLMzngwief",
      "include_colab_link": true
    },
    "kernelspec": {
      "name": "python3",
      "display_name": "Python 3"
    },
    "language_info": {
      "name": "python"
    }
  },
  "cells": [
    {
      "cell_type": "markdown",
      "metadata": {
        "id": "view-in-github",
        "colab_type": "text"
      },
      "source": [
        "<a href=\"https://colab.research.google.com/github/TriforcexD/Intro-Python-Notebooks/blob/main/SympyExercises.ipynb\" target=\"_parent\"><img src=\"https://colab.research.google.com/assets/colab-badge.svg\" alt=\"Open In Colab\"/></a>"
      ]
    },
    {
      "cell_type": "code",
      "execution_count": null,
      "metadata": {
        "id": "blqIJkMwr_1U"
      },
      "outputs": [],
      "source": [
        "from sympy import *"
      ]
    },
    {
      "cell_type": "code",
      "source": [
        "x , y = symbols('x y')"
      ],
      "metadata": {
        "id": "FoyJx7FosMNt"
      },
      "execution_count": null,
      "outputs": []
    },
    {
      "cell_type": "code",
      "source": [
        "factor(x**3 - y**3)"
      ],
      "metadata": {
        "colab": {
          "base_uri": "https://localhost:8080/",
          "height": 38
        },
        "id": "XJvIMNX5sep7",
        "outputId": "81187fb4-7510-4d5e-de20-50ed8ac154d2"
      },
      "execution_count": null,
      "outputs": [
        {
          "output_type": "execute_result",
          "data": {
            "text/plain": [
              "(x - y)*(x**2 + x*y + y**2)"
            ],
            "text/latex": "$\\displaystyle \\left(x - y\\right) \\left(x^{2} + x y + y^{2}\\right)$"
          },
          "metadata": {},
          "execution_count": 3
        }
      ]
    },
    {
      "cell_type": "code",
      "source": [
        "solve( x**2 -7*x- 30, x)"
      ],
      "metadata": {
        "colab": {
          "base_uri": "https://localhost:8080/"
        },
        "id": "iwyp4HSNsZGr",
        "outputId": "a1bb0899-09be-4942-8ffb-f623e9f6eb8b"
      },
      "execution_count": null,
      "outputs": [
        {
          "output_type": "execute_result",
          "data": {
            "text/plain": [
              "[-3, 10]"
            ]
          },
          "metadata": {},
          "execution_count": 4
        }
      ]
    },
    {
      "cell_type": "code",
      "source": [
        "apart( 3*x / ((x-1)*(x+2)*(x-5)))"
      ],
      "metadata": {
        "colab": {
          "base_uri": "https://localhost:8080/",
          "height": 55
        },
        "id": "MyGuWTK7so7u",
        "outputId": "7eef947e-2835-4eb3-867c-89b3bcb34f2f"
      },
      "execution_count": null,
      "outputs": [
        {
          "output_type": "execute_result",
          "data": {
            "text/plain": [
              "-2/(7*(x + 2)) - 1/(4*(x - 1)) + 15/(28*(x - 5))"
            ],
            "text/latex": "$\\displaystyle - \\frac{2}{7 \\left(x + 2\\right)} - \\frac{1}{4 \\left(x - 1\\right)} + \\frac{15}{28 \\left(x - 5\\right)}$"
          },
          "metadata": {},
          "execution_count": 5
        }
      ]
    },
    {
      "cell_type": "code",
      "source": [
        "expand((y+x-3)*(x**2-y+4))"
      ],
      "metadata": {
        "colab": {
          "base_uri": "https://localhost:8080/",
          "height": 38
        },
        "id": "lyTAUTovsxIH",
        "outputId": "1c507e07-30c0-42ff-d124-bc342fe1b5f0"
      },
      "execution_count": null,
      "outputs": [
        {
          "output_type": "execute_result",
          "data": {
            "text/plain": [
              "x**3 + x**2*y - 3*x**2 - x*y + 4*x - y**2 + 7*y - 12"
            ],
            "text/latex": "$\\displaystyle x^{3} + x^{2} y - 3 x^{2} - x y + 4 x - y^{2} + 7 y - 12$"
          },
          "metadata": {},
          "execution_count": 6
        }
      ]
    },
    {
      "cell_type": "code",
      "source": [
        "solve([2*x+2-y, y+3*x-1],[x,y])"
      ],
      "metadata": {
        "colab": {
          "base_uri": "https://localhost:8080/"
        },
        "id": "R-b-DTDus3fP",
        "outputId": "f2053695-48fe-4858-c894-94caf6093cfc"
      },
      "execution_count": null,
      "outputs": [
        {
          "output_type": "execute_result",
          "data": {
            "text/plain": [
              "{x: -1/5, y: 8/5}"
            ]
          },
          "metadata": {},
          "execution_count": 7
        }
      ]
    },
    {
      "cell_type": "code",
      "source": [
        "limit((x-1)/(x**2-1), x, 1)"
      ],
      "metadata": {
        "colab": {
          "base_uri": "https://localhost:8080/",
          "height": 51
        },
        "id": "vmvCW4T7tIyE",
        "outputId": "7b65522a-cf56-4660-8c35-bf4c5e18fb63"
      },
      "execution_count": null,
      "outputs": [
        {
          "output_type": "execute_result",
          "data": {
            "text/plain": [
              "1/2"
            ],
            "text/latex": "$\\displaystyle \\frac{1}{2}$"
          },
          "metadata": {},
          "execution_count": 8
        }
      ]
    },
    {
      "cell_type": "code",
      "source": [
        "diff(x**2-6*x+9, x)"
      ],
      "metadata": {
        "colab": {
          "base_uri": "https://localhost:8080/",
          "height": 38
        },
        "id": "UNjLbI_5vQvh",
        "outputId": "ca44268c-02c4-4989-935f-be1fb769ab6b"
      },
      "execution_count": null,
      "outputs": [
        {
          "output_type": "execute_result",
          "data": {
            "text/plain": [
              "2*x - 6"
            ],
            "text/latex": "$\\displaystyle 2 x - 6$"
          },
          "metadata": {},
          "execution_count": 9
        }
      ]
    },
    {
      "cell_type": "code",
      "source": [
        "diff(cos(3*x), x)"
      ],
      "metadata": {
        "colab": {
          "base_uri": "https://localhost:8080/",
          "height": 38
        },
        "id": "YhsRe2_avaB8",
        "outputId": "9ccf7be7-3cf9-45c0-cb43-79ccad46432a"
      },
      "execution_count": null,
      "outputs": [
        {
          "output_type": "execute_result",
          "data": {
            "text/plain": [
              "-3*sin(3*x)"
            ],
            "text/latex": "$\\displaystyle - 3 \\sin{\\left(3 x \\right)}$"
          },
          "metadata": {},
          "execution_count": 11
        }
      ]
    },
    {
      "cell_type": "code",
      "source": [
        "diff(2*exp(x)-1, x)"
      ],
      "metadata": {
        "colab": {
          "base_uri": "https://localhost:8080/",
          "height": 38
        },
        "id": "Mo-GT6PbvgNv",
        "outputId": "3b9b8948-2849-4fe0-caf7-5bc4dcd70a64"
      },
      "execution_count": null,
      "outputs": [
        {
          "output_type": "execute_result",
          "data": {
            "text/plain": [
              "2*exp(x)"
            ],
            "text/latex": "$\\displaystyle 2 e^{x}$"
          },
          "metadata": {},
          "execution_count": 12
        }
      ]
    },
    {
      "cell_type": "code",
      "source": [
        "diff(x*sin(x),x)"
      ],
      "metadata": {
        "colab": {
          "base_uri": "https://localhost:8080/",
          "height": 38
        },
        "id": "OEQ7982IvqKo",
        "outputId": "0fc914b8-dbcd-4ffc-df4d-f31686903fe4"
      },
      "execution_count": null,
      "outputs": [
        {
          "output_type": "execute_result",
          "data": {
            "text/plain": [
              "x*cos(x) + sin(x)"
            ],
            "text/latex": "$\\displaystyle x \\cos{\\left(x \\right)} + \\sin{\\left(x \\right)}$"
          },
          "metadata": {},
          "execution_count": 13
        }
      ]
    },
    {
      "cell_type": "code",
      "source": [
        "print(integrate(x**5,x), \"+c\")"
      ],
      "metadata": {
        "colab": {
          "base_uri": "https://localhost:8080/"
        },
        "id": "csOhb_iovxXX",
        "outputId": "ec8b7fda-5c5b-4bff-8efd-cd6f5364663c"
      },
      "execution_count": null,
      "outputs": [
        {
          "output_type": "stream",
          "name": "stdout",
          "text": [
            "x**6/6 +c\n"
          ]
        }
      ]
    },
    {
      "cell_type": "code",
      "source": [
        "integrate(x**5, (x, 1, 4))"
      ],
      "metadata": {
        "colab": {
          "base_uri": "https://localhost:8080/",
          "height": 51
        },
        "id": "xgn4xIEdv3KD",
        "outputId": "0f069a32-cfde-4220-8608-ccb5771b0ffe"
      },
      "execution_count": null,
      "outputs": [
        {
          "output_type": "execute_result",
          "data": {
            "text/plain": [
              "1365/2"
            ],
            "text/latex": "$\\displaystyle \\frac{1365}{2}$"
          },
          "metadata": {},
          "execution_count": 15
        }
      ]
    },
    {
      "cell_type": "code",
      "source": [
        "print(integrate(cos(3*x),x), \"+c\")"
      ],
      "metadata": {
        "colab": {
          "base_uri": "https://localhost:8080/"
        },
        "id": "xJKRhxZZwDLk",
        "outputId": "c53e0282-53cf-45a1-de48-844605ef80ec"
      },
      "execution_count": null,
      "outputs": [
        {
          "output_type": "stream",
          "name": "stdout",
          "text": [
            "sin(3*x)/3 +c\n"
          ]
        }
      ]
    },
    {
      "cell_type": "code",
      "source": [
        "integrate(x*sin(x),(x,0,1))"
      ],
      "metadata": {
        "colab": {
          "base_uri": "https://localhost:8080/",
          "height": 37
        },
        "id": "84IweEsnwcHX",
        "outputId": "341e94c5-7fcc-42d5-fda2-13929862f8c1"
      },
      "execution_count": null,
      "outputs": [
        {
          "output_type": "execute_result",
          "data": {
            "text/plain": [
              "-cos(1) + sin(1)"
            ],
            "text/latex": "$\\displaystyle - \\cos{\\left(1 \\right)} + \\sin{\\left(1 \\right)}$"
          },
          "metadata": {},
          "execution_count": 20
        }
      ]
    },
    {
      "cell_type": "code",
      "source": [
        "integrate((1/x),(x, 1, oo))"
      ],
      "metadata": {
        "colab": {
          "base_uri": "https://localhost:8080/",
          "height": 37
        },
        "id": "wsqxTMM7xEJB",
        "outputId": "953a9473-972b-4317-e66a-eb5f447397c9"
      },
      "execution_count": null,
      "outputs": [
        {
          "output_type": "execute_result",
          "data": {
            "text/plain": [
              "oo"
            ],
            "text/latex": "$\\displaystyle \\infty$"
          },
          "metadata": {},
          "execution_count": 21
        }
      ]
    },
    {
      "cell_type": "code",
      "source": [
        "A, B = Matrix([[1, 1],[-1,0]]), Matrix([[1,-3],[4,7]])\n",
        "2*A"
      ],
      "metadata": {
        "colab": {
          "base_uri": "https://localhost:8080/",
          "height": 58
        },
        "id": "KihwyPFzxTPU",
        "outputId": "21531a2a-9c69-4f7f-8335-3035d330ef7f"
      },
      "execution_count": null,
      "outputs": [
        {
          "output_type": "execute_result",
          "data": {
            "text/plain": [
              "Matrix([\n",
              "[ 2, 2],\n",
              "[-2, 0]])"
            ],
            "text/latex": "$\\displaystyle \\left[\\begin{matrix}2 & 2\\\\-2 & 0\\end{matrix}\\right]$"
          },
          "metadata": {},
          "execution_count": 24
        }
      ]
    },
    {
      "cell_type": "code",
      "source": [
        "3*A+4*B"
      ],
      "metadata": {
        "colab": {
          "base_uri": "https://localhost:8080/",
          "height": 58
        },
        "id": "kyFGYQKezogk",
        "outputId": "1efdc9a2-d9c9-45cc-8ab6-8afd46deae76"
      },
      "execution_count": null,
      "outputs": [
        {
          "output_type": "execute_result",
          "data": {
            "text/plain": [
              "Matrix([\n",
              "[ 7, -9],\n",
              "[13, 28]])"
            ],
            "text/latex": "$\\displaystyle \\left[\\begin{matrix}7 & -9\\\\13 & 28\\end{matrix}\\right]$"
          },
          "metadata": {},
          "execution_count": 25
        }
      ]
    },
    {
      "cell_type": "code",
      "source": [
        "A*B"
      ],
      "metadata": {
        "colab": {
          "base_uri": "https://localhost:8080/",
          "height": 58
        },
        "id": "9RQzhLwtz9iV",
        "outputId": "6bff46b6-a2fe-46e6-f3da-b454b1e6b3cd"
      },
      "execution_count": null,
      "outputs": [
        {
          "output_type": "execute_result",
          "data": {
            "text/plain": [
              "Matrix([\n",
              "[ 5, 4],\n",
              "[-1, 3]])"
            ],
            "text/latex": "$\\displaystyle \\left[\\begin{matrix}5 & 4\\\\-1 & 3\\end{matrix}\\right]$"
          },
          "metadata": {},
          "execution_count": 26
        }
      ]
    },
    {
      "cell_type": "code",
      "source": [
        "A.inv()"
      ],
      "metadata": {
        "colab": {
          "base_uri": "https://localhost:8080/",
          "height": 58
        },
        "id": "GmhdF99q0AcK",
        "outputId": "ef98d081-c470-41fe-8a9f-85aa21b7a82d"
      },
      "execution_count": null,
      "outputs": [
        {
          "output_type": "execute_result",
          "data": {
            "text/plain": [
              "Matrix([\n",
              "[0, -1],\n",
              "[1,  1]])"
            ],
            "text/latex": "$\\displaystyle \\left[\\begin{matrix}0 & -1\\\\1 & 1\\end{matrix}\\right]$"
          },
          "metadata": {},
          "execution_count": 28
        }
      ]
    },
    {
      "cell_type": "code",
      "source": [
        "B.det()"
      ],
      "metadata": {
        "colab": {
          "base_uri": "https://localhost:8080/",
          "height": 37
        },
        "id": "AultSutu0Ce6",
        "outputId": "5ac3c6e4-5b18-4a72-f277-d166662e0f43"
      },
      "execution_count": null,
      "outputs": [
        {
          "output_type": "execute_result",
          "data": {
            "text/plain": [
              "19"
            ],
            "text/latex": "$\\displaystyle 19$"
          },
          "metadata": {},
          "execution_count": 30
        }
      ]
    },
    {
      "cell_type": "code",
      "source": [],
      "metadata": {
        "id": "k9kt1OL40LAp"
      },
      "execution_count": null,
      "outputs": []
    }
  ]
}